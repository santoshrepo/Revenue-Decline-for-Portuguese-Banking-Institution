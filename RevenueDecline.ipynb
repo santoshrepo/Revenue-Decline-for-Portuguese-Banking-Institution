{
 "cells": [
  {
   "cell_type": "markdown",
   "metadata": {},
   "source": [
    "# Prediction on Revenue Decline for Portuguese Banking Institution"
   ]
  },
  {
   "cell_type": "markdown",
   "metadata": {},
   "source": [
    "## Data Preparation"
   ]
  },
  {
   "cell_type": "code",
   "execution_count": 1,
   "metadata": {},
   "outputs": [],
   "source": [
    "import pandas as pd\n",
    "import numpy as np\n",
    "import matplotlib.pyplot as plt"
   ]
  },
  {
   "cell_type": "code",
   "execution_count": 2,
   "metadata": {},
   "outputs": [],
   "source": [
    "data = pd.read_csv('Bank.csv',sep=';')"
   ]
  },
  {
   "cell_type": "code",
   "execution_count": 3,
   "metadata": {
    "scrolled": false
   },
   "outputs": [
    {
     "data": {
      "text/html": [
       "<div>\n",
       "<style scoped>\n",
       "    .dataframe tbody tr th:only-of-type {\n",
       "        vertical-align: middle;\n",
       "    }\n",
       "\n",
       "    .dataframe tbody tr th {\n",
       "        vertical-align: top;\n",
       "    }\n",
       "\n",
       "    .dataframe thead th {\n",
       "        text-align: right;\n",
       "    }\n",
       "</style>\n",
       "<table border=\"1\" class=\"dataframe\">\n",
       "  <thead>\n",
       "    <tr style=\"text-align: right;\">\n",
       "      <th></th>\n",
       "      <th>age</th>\n",
       "      <th>job</th>\n",
       "      <th>marital</th>\n",
       "      <th>education</th>\n",
       "      <th>default</th>\n",
       "      <th>housing</th>\n",
       "      <th>loan</th>\n",
       "      <th>contact</th>\n",
       "      <th>month</th>\n",
       "      <th>day_of_week</th>\n",
       "      <th>...</th>\n",
       "      <th>campaign</th>\n",
       "      <th>pdays</th>\n",
       "      <th>previous</th>\n",
       "      <th>poutcome</th>\n",
       "      <th>emp.var.rate</th>\n",
       "      <th>cons.price.idx</th>\n",
       "      <th>cons.conf.idx</th>\n",
       "      <th>euribor3m</th>\n",
       "      <th>nr.employed</th>\n",
       "      <th>y</th>\n",
       "    </tr>\n",
       "  </thead>\n",
       "  <tbody>\n",
       "    <tr>\n",
       "      <th>0</th>\n",
       "      <td>56</td>\n",
       "      <td>housemaid</td>\n",
       "      <td>married</td>\n",
       "      <td>basic.4y</td>\n",
       "      <td>no</td>\n",
       "      <td>no</td>\n",
       "      <td>no</td>\n",
       "      <td>telephone</td>\n",
       "      <td>may</td>\n",
       "      <td>mon</td>\n",
       "      <td>...</td>\n",
       "      <td>1</td>\n",
       "      <td>999</td>\n",
       "      <td>0</td>\n",
       "      <td>nonexistent</td>\n",
       "      <td>1.1</td>\n",
       "      <td>93.994</td>\n",
       "      <td>-36.4</td>\n",
       "      <td>4.857</td>\n",
       "      <td>5191.0</td>\n",
       "      <td>no</td>\n",
       "    </tr>\n",
       "    <tr>\n",
       "      <th>1</th>\n",
       "      <td>57</td>\n",
       "      <td>services</td>\n",
       "      <td>married</td>\n",
       "      <td>high.school</td>\n",
       "      <td>unknown</td>\n",
       "      <td>no</td>\n",
       "      <td>no</td>\n",
       "      <td>telephone</td>\n",
       "      <td>may</td>\n",
       "      <td>mon</td>\n",
       "      <td>...</td>\n",
       "      <td>1</td>\n",
       "      <td>999</td>\n",
       "      <td>0</td>\n",
       "      <td>nonexistent</td>\n",
       "      <td>1.1</td>\n",
       "      <td>93.994</td>\n",
       "      <td>-36.4</td>\n",
       "      <td>4.857</td>\n",
       "      <td>5191.0</td>\n",
       "      <td>no</td>\n",
       "    </tr>\n",
       "    <tr>\n",
       "      <th>2</th>\n",
       "      <td>37</td>\n",
       "      <td>services</td>\n",
       "      <td>married</td>\n",
       "      <td>high.school</td>\n",
       "      <td>no</td>\n",
       "      <td>yes</td>\n",
       "      <td>no</td>\n",
       "      <td>telephone</td>\n",
       "      <td>may</td>\n",
       "      <td>mon</td>\n",
       "      <td>...</td>\n",
       "      <td>1</td>\n",
       "      <td>999</td>\n",
       "      <td>0</td>\n",
       "      <td>nonexistent</td>\n",
       "      <td>1.1</td>\n",
       "      <td>93.994</td>\n",
       "      <td>-36.4</td>\n",
       "      <td>4.857</td>\n",
       "      <td>5191.0</td>\n",
       "      <td>no</td>\n",
       "    </tr>\n",
       "    <tr>\n",
       "      <th>3</th>\n",
       "      <td>40</td>\n",
       "      <td>admin.</td>\n",
       "      <td>married</td>\n",
       "      <td>basic.6y</td>\n",
       "      <td>no</td>\n",
       "      <td>no</td>\n",
       "      <td>no</td>\n",
       "      <td>telephone</td>\n",
       "      <td>may</td>\n",
       "      <td>mon</td>\n",
       "      <td>...</td>\n",
       "      <td>1</td>\n",
       "      <td>999</td>\n",
       "      <td>0</td>\n",
       "      <td>nonexistent</td>\n",
       "      <td>1.1</td>\n",
       "      <td>93.994</td>\n",
       "      <td>-36.4</td>\n",
       "      <td>4.857</td>\n",
       "      <td>5191.0</td>\n",
       "      <td>no</td>\n",
       "    </tr>\n",
       "    <tr>\n",
       "      <th>4</th>\n",
       "      <td>56</td>\n",
       "      <td>services</td>\n",
       "      <td>married</td>\n",
       "      <td>high.school</td>\n",
       "      <td>no</td>\n",
       "      <td>no</td>\n",
       "      <td>yes</td>\n",
       "      <td>telephone</td>\n",
       "      <td>may</td>\n",
       "      <td>mon</td>\n",
       "      <td>...</td>\n",
       "      <td>1</td>\n",
       "      <td>999</td>\n",
       "      <td>0</td>\n",
       "      <td>nonexistent</td>\n",
       "      <td>1.1</td>\n",
       "      <td>93.994</td>\n",
       "      <td>-36.4</td>\n",
       "      <td>4.857</td>\n",
       "      <td>5191.0</td>\n",
       "      <td>no</td>\n",
       "    </tr>\n",
       "  </tbody>\n",
       "</table>\n",
       "<p>5 rows × 21 columns</p>\n",
       "</div>"
      ],
      "text/plain": [
       "   age        job  marital    education  default housing loan    contact  \\\n",
       "0   56  housemaid  married     basic.4y       no      no   no  telephone   \n",
       "1   57   services  married  high.school  unknown      no   no  telephone   \n",
       "2   37   services  married  high.school       no     yes   no  telephone   \n",
       "3   40     admin.  married     basic.6y       no      no   no  telephone   \n",
       "4   56   services  married  high.school       no      no  yes  telephone   \n",
       "\n",
       "  month day_of_week ...  campaign  pdays  previous     poutcome emp.var.rate  \\\n",
       "0   may         mon ...         1    999         0  nonexistent          1.1   \n",
       "1   may         mon ...         1    999         0  nonexistent          1.1   \n",
       "2   may         mon ...         1    999         0  nonexistent          1.1   \n",
       "3   may         mon ...         1    999         0  nonexistent          1.1   \n",
       "4   may         mon ...         1    999         0  nonexistent          1.1   \n",
       "\n",
       "   cons.price.idx  cons.conf.idx  euribor3m  nr.employed   y  \n",
       "0          93.994          -36.4      4.857       5191.0  no  \n",
       "1          93.994          -36.4      4.857       5191.0  no  \n",
       "2          93.994          -36.4      4.857       5191.0  no  \n",
       "3          93.994          -36.4      4.857       5191.0  no  \n",
       "4          93.994          -36.4      4.857       5191.0  no  \n",
       "\n",
       "[5 rows x 21 columns]"
      ]
     },
     "execution_count": 3,
     "metadata": {},
     "output_type": "execute_result"
    }
   ],
   "source": [
    "data.head()"
   ]
  },
  {
   "cell_type": "code",
   "execution_count": 4,
   "metadata": {},
   "outputs": [],
   "source": [
    "data.columns = ['Age', 'Job','Marital','Education','Default','Housing','Loan','Contact_type','Month','Day_of_week','Duration','Campaign','No_of_days_passed','Previous_contacts_performed','Outcome','Variation_rate','Price_index','Confidence_index','Three_month_rate','No_of_employees','Subscription_Deposit']"
   ]
  },
  {
   "cell_type": "code",
   "execution_count": 5,
   "metadata": {},
   "outputs": [
    {
     "data": {
      "text/html": [
       "<div>\n",
       "<style scoped>\n",
       "    .dataframe tbody tr th:only-of-type {\n",
       "        vertical-align: middle;\n",
       "    }\n",
       "\n",
       "    .dataframe tbody tr th {\n",
       "        vertical-align: top;\n",
       "    }\n",
       "\n",
       "    .dataframe thead th {\n",
       "        text-align: right;\n",
       "    }\n",
       "</style>\n",
       "<table border=\"1\" class=\"dataframe\">\n",
       "  <thead>\n",
       "    <tr style=\"text-align: right;\">\n",
       "      <th></th>\n",
       "      <th>Age</th>\n",
       "      <th>Job</th>\n",
       "      <th>Marital</th>\n",
       "      <th>Education</th>\n",
       "      <th>Default</th>\n",
       "      <th>Housing</th>\n",
       "      <th>Loan</th>\n",
       "      <th>Contact_type</th>\n",
       "      <th>Month</th>\n",
       "      <th>Day_of_week</th>\n",
       "      <th>...</th>\n",
       "      <th>Campaign</th>\n",
       "      <th>No_of_days_passed</th>\n",
       "      <th>Previous_contacts_performed</th>\n",
       "      <th>Outcome</th>\n",
       "      <th>Variation_rate</th>\n",
       "      <th>Price_index</th>\n",
       "      <th>Confidence_index</th>\n",
       "      <th>Three_month_rate</th>\n",
       "      <th>No_of_employees</th>\n",
       "      <th>Subscription_Deposit</th>\n",
       "    </tr>\n",
       "  </thead>\n",
       "  <tbody>\n",
       "    <tr>\n",
       "      <th>0</th>\n",
       "      <td>56</td>\n",
       "      <td>housemaid</td>\n",
       "      <td>married</td>\n",
       "      <td>basic.4y</td>\n",
       "      <td>no</td>\n",
       "      <td>no</td>\n",
       "      <td>no</td>\n",
       "      <td>telephone</td>\n",
       "      <td>may</td>\n",
       "      <td>mon</td>\n",
       "      <td>...</td>\n",
       "      <td>1</td>\n",
       "      <td>999</td>\n",
       "      <td>0</td>\n",
       "      <td>nonexistent</td>\n",
       "      <td>1.1</td>\n",
       "      <td>93.994</td>\n",
       "      <td>-36.4</td>\n",
       "      <td>4.857</td>\n",
       "      <td>5191.0</td>\n",
       "      <td>no</td>\n",
       "    </tr>\n",
       "    <tr>\n",
       "      <th>1</th>\n",
       "      <td>57</td>\n",
       "      <td>services</td>\n",
       "      <td>married</td>\n",
       "      <td>high.school</td>\n",
       "      <td>unknown</td>\n",
       "      <td>no</td>\n",
       "      <td>no</td>\n",
       "      <td>telephone</td>\n",
       "      <td>may</td>\n",
       "      <td>mon</td>\n",
       "      <td>...</td>\n",
       "      <td>1</td>\n",
       "      <td>999</td>\n",
       "      <td>0</td>\n",
       "      <td>nonexistent</td>\n",
       "      <td>1.1</td>\n",
       "      <td>93.994</td>\n",
       "      <td>-36.4</td>\n",
       "      <td>4.857</td>\n",
       "      <td>5191.0</td>\n",
       "      <td>no</td>\n",
       "    </tr>\n",
       "    <tr>\n",
       "      <th>2</th>\n",
       "      <td>37</td>\n",
       "      <td>services</td>\n",
       "      <td>married</td>\n",
       "      <td>high.school</td>\n",
       "      <td>no</td>\n",
       "      <td>yes</td>\n",
       "      <td>no</td>\n",
       "      <td>telephone</td>\n",
       "      <td>may</td>\n",
       "      <td>mon</td>\n",
       "      <td>...</td>\n",
       "      <td>1</td>\n",
       "      <td>999</td>\n",
       "      <td>0</td>\n",
       "      <td>nonexistent</td>\n",
       "      <td>1.1</td>\n",
       "      <td>93.994</td>\n",
       "      <td>-36.4</td>\n",
       "      <td>4.857</td>\n",
       "      <td>5191.0</td>\n",
       "      <td>no</td>\n",
       "    </tr>\n",
       "    <tr>\n",
       "      <th>3</th>\n",
       "      <td>40</td>\n",
       "      <td>admin.</td>\n",
       "      <td>married</td>\n",
       "      <td>basic.6y</td>\n",
       "      <td>no</td>\n",
       "      <td>no</td>\n",
       "      <td>no</td>\n",
       "      <td>telephone</td>\n",
       "      <td>may</td>\n",
       "      <td>mon</td>\n",
       "      <td>...</td>\n",
       "      <td>1</td>\n",
       "      <td>999</td>\n",
       "      <td>0</td>\n",
       "      <td>nonexistent</td>\n",
       "      <td>1.1</td>\n",
       "      <td>93.994</td>\n",
       "      <td>-36.4</td>\n",
       "      <td>4.857</td>\n",
       "      <td>5191.0</td>\n",
       "      <td>no</td>\n",
       "    </tr>\n",
       "    <tr>\n",
       "      <th>4</th>\n",
       "      <td>56</td>\n",
       "      <td>services</td>\n",
       "      <td>married</td>\n",
       "      <td>high.school</td>\n",
       "      <td>no</td>\n",
       "      <td>no</td>\n",
       "      <td>yes</td>\n",
       "      <td>telephone</td>\n",
       "      <td>may</td>\n",
       "      <td>mon</td>\n",
       "      <td>...</td>\n",
       "      <td>1</td>\n",
       "      <td>999</td>\n",
       "      <td>0</td>\n",
       "      <td>nonexistent</td>\n",
       "      <td>1.1</td>\n",
       "      <td>93.994</td>\n",
       "      <td>-36.4</td>\n",
       "      <td>4.857</td>\n",
       "      <td>5191.0</td>\n",
       "      <td>no</td>\n",
       "    </tr>\n",
       "  </tbody>\n",
       "</table>\n",
       "<p>5 rows × 21 columns</p>\n",
       "</div>"
      ],
      "text/plain": [
       "   Age        Job  Marital    Education  Default Housing Loan Contact_type  \\\n",
       "0   56  housemaid  married     basic.4y       no      no   no    telephone   \n",
       "1   57   services  married  high.school  unknown      no   no    telephone   \n",
       "2   37   services  married  high.school       no     yes   no    telephone   \n",
       "3   40     admin.  married     basic.6y       no      no   no    telephone   \n",
       "4   56   services  married  high.school       no      no  yes    telephone   \n",
       "\n",
       "  Month Day_of_week          ...           Campaign  No_of_days_passed  \\\n",
       "0   may         mon          ...                  1                999   \n",
       "1   may         mon          ...                  1                999   \n",
       "2   may         mon          ...                  1                999   \n",
       "3   may         mon          ...                  1                999   \n",
       "4   may         mon          ...                  1                999   \n",
       "\n",
       "   Previous_contacts_performed      Outcome Variation_rate  Price_index  \\\n",
       "0                            0  nonexistent            1.1       93.994   \n",
       "1                            0  nonexistent            1.1       93.994   \n",
       "2                            0  nonexistent            1.1       93.994   \n",
       "3                            0  nonexistent            1.1       93.994   \n",
       "4                            0  nonexistent            1.1       93.994   \n",
       "\n",
       "   Confidence_index  Three_month_rate  No_of_employees  Subscription_Deposit  \n",
       "0             -36.4             4.857           5191.0                    no  \n",
       "1             -36.4             4.857           5191.0                    no  \n",
       "2             -36.4             4.857           5191.0                    no  \n",
       "3             -36.4             4.857           5191.0                    no  \n",
       "4             -36.4             4.857           5191.0                    no  \n",
       "\n",
       "[5 rows x 21 columns]"
      ]
     },
     "execution_count": 5,
     "metadata": {},
     "output_type": "execute_result"
    }
   ],
   "source": [
    "data.head()"
   ]
  },
  {
   "cell_type": "code",
   "execution_count": 6,
   "metadata": {},
   "outputs": [
    {
     "data": {
      "text/plain": [
       "admin.           10422\n",
       "blue-collar       9254\n",
       "technician        6743\n",
       "services          3969\n",
       "management        2924\n",
       "retired           1720\n",
       "entrepreneur      1456\n",
       "self-employed     1421\n",
       "housemaid         1060\n",
       "unemployed        1014\n",
       "student            875\n",
       "unknown            330\n",
       "Name: Job, dtype: int64"
      ]
     },
     "execution_count": 6,
     "metadata": {},
     "output_type": "execute_result"
    }
   ],
   "source": [
    "data['Job'].value_counts()"
   ]
  },
  {
   "cell_type": "code",
   "execution_count": 7,
   "metadata": {},
   "outputs": [],
   "source": [
    "def remove_whitespace(x):\n",
    "    if isinstance(x, basestring):\n",
    "        return x.strip()\n",
    "    else:\n",
    "        return x\n",
    "my_data = data.applymap(remove_whitespace)"
   ]
  },
  {
   "cell_type": "code",
   "execution_count": 8,
   "metadata": {},
   "outputs": [],
   "source": [
    "def remove_letter(x):\n",
    "    if isinstance(x, basestring):\n",
    "        return x.lower()\n",
    "    else:\n",
    "        return x\n",
    "my_data = my_data.applymap(remove_letter)"
   ]
  },
  {
   "cell_type": "code",
   "execution_count": 9,
   "metadata": {},
   "outputs": [
    {
     "data": {
      "text/plain": [
       "Age                            0\n",
       "Job                            0\n",
       "Marital                        0\n",
       "Education                      0\n",
       "Default                        0\n",
       "Housing                        0\n",
       "Loan                           0\n",
       "Contact_type                   0\n",
       "Month                          0\n",
       "Day_of_week                    0\n",
       "Duration                       0\n",
       "Campaign                       0\n",
       "No_of_days_passed              0\n",
       "Previous_contacts_performed    0\n",
       "Outcome                        0\n",
       "Variation_rate                 0\n",
       "Price_index                    0\n",
       "Confidence_index               0\n",
       "Three_month_rate               0\n",
       "No_of_employees                0\n",
       "Subscription_Deposit           0\n",
       "dtype: int64"
      ]
     },
     "execution_count": 9,
     "metadata": {},
     "output_type": "execute_result"
    }
   ],
   "source": [
    "data.isnull().sum()"
   ]
  },
  {
   "cell_type": "code",
   "execution_count": 10,
   "metadata": {},
   "outputs": [],
   "source": [
    "data['Job'] = data['Job'].replace('unknown',np.nan)\n",
    "data['Marital'] = data['Marital'].replace('unknown',np.nan)\n",
    "data['Education'] = data['Education'].replace('unknown',np.nan)\n",
    "data['Default'] = data['Default'].replace('unknown',np.nan)\n",
    "data['Housing'] = data['Housing'].replace('unknown',np.nan)\n",
    "data['Loan'] = data['Loan'].replace('unknown',np.nan)"
   ]
  },
  {
   "cell_type": "code",
   "execution_count": 11,
   "metadata": {},
   "outputs": [],
   "source": [
    "data.fillna(method='ffill',inplace = True)"
   ]
  },
  {
   "cell_type": "markdown",
   "metadata": {},
   "source": [
    "## Data Exploration"
   ]
  },
  {
   "cell_type": "code",
   "execution_count": 12,
   "metadata": {},
   "outputs": [
    {
     "data": {
      "image/png": "[encoded data removed]",
      "text/plain": [
       "<Figure size 1080x720 with 4 Axes>"
      ]
     },
     "metadata": {
      "needs_background": "light"
     },
     "output_type": "display_data"
    }
   ],
   "source": [
    "plt.rcParams[\"figure.figsize\"] = (15,10)\n",
    "\n",
    "plt.subplot(2, 2, 1) \n",
    "data['Duration'].value_counts().plot(kind = 'box')\n",
    "plt.ylabel(\"Counts\")\n",
    "plt.title(\"Fig 1\")\n",
    "plt.grid(color='black', linestyle='-', linewidth=0.1)\n",
    "\n",
    "plt.subplot(2, 2, 2) \n",
    "data['No_of_employees'].value_counts().plot(kind = 'barh')\n",
    "plt.xlabel(\"Value\")\n",
    "plt.ylabel(\"No_of_employees\")\n",
    "plt.title(\"Fig 2\")\n",
    "plt.grid(color='black', linestyle='-', linewidth=0.1)\n",
    "\n",
    "plt.subplot(2, 2, 3)\n",
    "data['No_of_days_passed'].value_counts().plot(kind = 'density')\n",
    "plt.xlabel(\"No_of_days_passed\")\n",
    "plt.title(\"Fig 3\")\n",
    "plt.grid(color='black', linestyle='-', linewidth=0.1)\n",
    "\n",
    "\n",
    "plt.subplot(2, 2, 4)  \n",
    "data['Contact_type'].value_counts().plot(kind = 'pie')\n",
    "plt.title(\"Fig 4\")\n",
    "\n",
    "plt.show();"
   ]
  },
  {
   "cell_type": "code",
   "execution_count": 13,
   "metadata": {},
   "outputs": [
    {
     "data": {
      "image/png": "[encoded data removed]",
      "text/plain": [
       "<Figure size 1080x720 with 4 Axes>"
      ]
     },
     "metadata": {
      "needs_background": "light"
     },
     "output_type": "display_data"
    }
   ],
   "source": [
    "plt.rcParams[\"figure.figsize\"] = (15,10)\n",
    "\n",
    "plt.subplot(2, 2, 1) \n",
    "data['Variation_rate'].value_counts().plot(kind = 'box')\n",
    "plt.ylabel(\"Counts\")\n",
    "plt.title(\"Fig 5\")\n",
    "plt.grid(color='black', linestyle='-', linewidth=0.1)\n",
    "\n",
    "plt.subplot(2, 2, 2) \n",
    "data['Previous_contacts_performed'].value_counts().plot(kind = 'barh')\n",
    "plt.xlabel(\"Value\")\n",
    "plt.ylabel(\"Previous_contacts_performed\")\n",
    "plt.title(\"Fig 6\")\n",
    "plt.grid(color='black', linestyle='-', linewidth=0.1)\n",
    "\n",
    "plt.subplot(2, 2, 3)\n",
    "data['Three_month_rate'].value_counts().plot(kind = 'density')\n",
    "plt.xlabel(\"Three_month_rate\")\n",
    "plt.title(\"Fig 7\")\n",
    "plt.grid(color='black', linestyle='-', linewidth=0.1)\n",
    "\n",
    "\n",
    "plt.subplot(2, 2, 4) \n",
    "data['Outcome'].value_counts().plot(kind = 'pie')\n",
    "plt.title(\"Fig 8\")\n",
    "\n",
    "plt.show();"
   ]
  },
  {
   "cell_type": "code",
   "execution_count": 14,
   "metadata": {},
   "outputs": [
    {
     "data": {
      "image/png": "[encoded data removed]",
      "text/plain": [
       "<Figure size 1080x720 with 2 Axes>"
      ]
     },
     "metadata": {
      "needs_background": "light"
     },
     "output_type": "display_data"
    }
   ],
   "source": [
    "plt.rcParams[\"figure.figsize\"] = (15,10)\n",
    "\n",
    "plt.subplot(2, 2, 1) \n",
    "data['Price_index'].value_counts().plot(kind = 'density')\n",
    "plt.xlabel(\"Price_index\")\n",
    "plt.title(\"Fig 9\")\n",
    "plt.grid(color='black', linestyle='-', linewidth=0.1)\n",
    "\n",
    "plt.subplot(2, 2, 2) \n",
    "data['Campaign'].value_counts().plot(kind = 'density')\n",
    "plt.xlabel(\"Campaign\")\n",
    "plt.title(\"Fig 10\")\n",
    "plt.grid(color='black', linestyle='-', linewidth=0.1)\n",
    "\n",
    "plt.show();"
   ]
  },
  {
   "cell_type": "code",
   "execution_count": 15,
   "metadata": {},
   "outputs": [
    {
     "data": {
      "image/png": "[encoded data removed]",
      "text/plain": [
       "<Figure size 1080x720 with 1 Axes>"
      ]
     },
     "metadata": {
      "needs_background": "light"
     },
     "output_type": "display_data"
    },
    {
     "data": {
      "image/png": "[encoded data removed]",
      "text/plain": [
       "<Figure size 1080x720 with 1 Axes>"
      ]
     },
     "metadata": {
      "needs_background": "light"
     },
     "output_type": "display_data"
    },
    {
     "data": {
      "image/png": "[encoded data removed]",
      "text/plain": [
       "<Figure size 1080x720 with 1 Axes>"
      ]
     },
     "metadata": {
      "needs_background": "light"
     },
     "output_type": "display_data"
    },
    {
     "data": {
      "image/png": "[encoded data removed]",
      "text/plain": [
       "<Figure size 1080x720 with 1 Axes>"
      ]
     },
     "metadata": {
      "needs_background": "light"
     },
     "output_type": "display_data"
    }
   ],
   "source": [
    "i=11\n",
    "\n",
    "for col in ['Duration', 'No_of_employees', 'Three_month_rate', 'No_of_days_passed']:\n",
    "   \n",
    "    data1 = data.loc[data['Subscription_Deposit']==\"yes\", col]\n",
    "    data2 = data.loc[data['Subscription_Deposit']==\"no\", col]\n",
    "    \n",
    "    plt.hist(data1, alpha = 0.3, bins = 30)\n",
    "    plt.hist(data2, alpha = 0.3, bins = 30)\n",
    "    plt.title(\"Figure \" + str(i) + \": Histogram of \" + col + \" segregated by subcription deposits\")\n",
    "    i = i + 1\n",
    "    plt.legend(data['Subscription_Deposit'].unique(), bbox_to_anchor=(1.05, 1), loc=2, borderaxespad=0.)\n",
    "    plt.show()"
   ]
  },
  {
   "cell_type": "code",
   "execution_count": 16,
   "metadata": {},
   "outputs": [
    {
     "data": {
      "image/png": "[encoded data removed]",
      "text/plain": [
       "<Figure size 1080x720 with 1 Axes>"
      ]
     },
     "metadata": {
      "needs_background": "light"
     },
     "output_type": "display_data"
    },
    {
     "data": {
      "image/png": "[encoded data removed]",
      "text/plain": [
       "<Figure size 1080x720 with 1 Axes>"
      ]
     },
     "metadata": {
      "needs_background": "light"
     },
     "output_type": "display_data"
    },
    {
     "data": {
      "image/png": "[encoded data removed]",
      "text/plain": [
       "<Figure size 1080x720 with 1 Axes>"
      ]
     },
     "metadata": {
      "needs_background": "light"
     },
     "output_type": "display_data"
    }
   ],
   "source": [
    "i=15\n",
    "for col in ['Variation_rate', 'Price_index', 'Campaign']:\n",
    "    data1 = data.loc[data['Subscription_Deposit']==\"yes\", col]\n",
    "    data2 = data.loc[data['Subscription_Deposit']==\"no\", col]\n",
    "    plt.hist(data1, alpha = 0.3, bins = 30)\n",
    "    plt.hist(data2, alpha = 0.3, bins = 30)\n",
    "    plt.title(\"Figure \" + str(i) + \": Histogram of \" + col + \" segregated by subcription deposits\")\n",
    "    i = i + 1\n",
    "    plt.legend(data['Subscription_Deposit'].unique(), bbox_to_anchor=(1.05, 1), loc=2, borderaxespad=0.)\n",
    "    plt.show()"
   ]
  },
  {
   "cell_type": "code",
   "execution_count": 17,
   "metadata": {},
   "outputs": [
    {
     "data": {
      "image/png": "[encoded data removed]",
      "text/plain": [
       "<Figure size 1080x720 with 1 Axes>"
      ]
     },
     "metadata": {
      "needs_background": "light"
     },
     "output_type": "display_data"
    },
    {
     "data": {
      "image/png": "[encoded data removed]",
      "text/plain": [
       "<Figure size 1080x720 with 1 Axes>"
      ]
     },
     "metadata": {
      "needs_background": "light"
     },
     "output_type": "display_data"
    },
    {
     "data": {
      "image/png": "[encoded data removed]",
      "text/plain": [
       "<Figure size 1080x720 with 1 Axes>"
      ]
     },
     "metadata": {
      "needs_background": "light"
     },
     "output_type": "display_data"
    }
   ],
   "source": [
    "i=18\n",
    "for col in ['Previous_contacts_performed','Confidence_index','Age']:\n",
    "    data1 = data.loc[data['Subscription_Deposit']==\"yes\", col]\n",
    "    data2 = data.loc[data['Subscription_Deposit']==\"no\", col]\n",
    "    plt.hist(data1, alpha = 0.3, bins = 30)\n",
    "    plt.hist(data2, alpha = 0.3, bins = 30)\n",
    "    plt.title(\"Figure \" + str(i) + \": Histogram of \" + col + \" segregated by subcription deposits\")\n",
    "    i = i + 1\n",
    "    plt.legend(data['Subscription_Deposit'].unique(), bbox_to_anchor=(1.05, 1), loc=2, borderaxespad=0.)\n",
    "    plt.show()"
   ]
  },
  {
   "cell_type": "markdown",
   "metadata": {},
   "source": [
    "## Data modeling"
   ]
  },
  {
   "cell_type": "code",
   "execution_count": 18,
   "metadata": {},
   "outputs": [],
   "source": [
    "from sklearn import preprocessing\n",
    "le = preprocessing.LabelEncoder()"
   ]
  },
  {
   "cell_type": "code",
   "execution_count": 19,
   "metadata": {},
   "outputs": [],
   "source": [
    "le_fit = le.fit(data['Job'])\n",
    "data['Job'] = le_fit.transform(data['Job'])\n",
    "\n",
    "le_fit = le.fit(data['Marital'])\n",
    "data['Marital'] = le_fit.transform(data['Marital'])\n",
    "\n",
    "\n",
    "le_fit = le.fit(data['Education'])\n",
    "data['Education'] = le_fit.transform(data['Education'])\n",
    "\n",
    "le_fit = le.fit(data['Default'])\n",
    "data['Default'] = le_fit.transform(data['Default'])\n",
    "\n",
    "le_fit = le.fit(data['Housing'])\n",
    "data['Housing'] = le_fit.transform(data['Housing'])\n",
    "\n",
    "\n",
    "le_fit = le.fit(data['Loan'])\n",
    "data['Loan'] = le_fit.transform(data['Loan'])\n",
    "\n",
    "le_fit = le.fit(data['Contact_type'])\n",
    "data['Contact_type'] = le_fit.transform(data['Contact_type'])\n",
    "\n",
    "le_fit = le.fit(data['Month'])\n",
    "data['Month'] = le_fit.transform(data['Month'])\n",
    "\n",
    "le_fit = le.fit(data['Day_of_week'])\n",
    "data['Day_of_week'] = le_fit.transform(data['Day_of_week'])\n",
    "\n",
    "le_fit = le.fit(data['Outcome'])\n",
    "data['Outcome'] = le_fit.transform(data['Outcome'])\n",
    "\n"
   ]
  },
  {
   "cell_type": "code",
   "execution_count": 20,
   "metadata": {},
   "outputs": [],
   "source": [
    "Data_original = data.drop(columns = 'Subscription_Deposit').values\n",
    "target = data['Subscription_Deposit']\n",
    "\n",
    "le_fit = le.fit(target)\n",
    "target = le_fit.transform(target)"
   ]
  },
  {
   "cell_type": "code",
   "execution_count": 21,
   "metadata": {},
   "outputs": [
    {
     "data": {
      "text/plain": [
       "array([0, 0, 0, ..., 0, 1, 0])"
      ]
     },
     "execution_count": 21,
     "metadata": {},
     "output_type": "execute_result"
    }
   ],
   "source": [
    "target"
   ]
  },
  {
   "cell_type": "code",
   "execution_count": 22,
   "metadata": {},
   "outputs": [
    {
     "name": "stdout",
     "output_type": "stream",
     "text": [
      "<type 'numpy.ndarray'>\n"
     ]
    },
    {
     "data": {
      "text/plain": [
       "(array([0, 1]), array([36548,  4640], dtype=int64))"
      ]
     },
     "execution_count": 22,
     "metadata": {},
     "output_type": "execute_result"
    }
   ],
   "source": [
    "import numpy as np\n",
    "\n",
    "print(type(target))\n",
    "np.unique(target, return_counts = True)"
   ]
  },
  {
   "cell_type": "code",
   "execution_count": 23,
   "metadata": {},
   "outputs": [
    {
     "data": {
      "text/plain": [
       "array([10, 19, 12, 18, 15, 13,  7, 16, 14, 11], dtype=int64)"
      ]
     },
     "execution_count": 23,
     "metadata": {},
     "output_type": "execute_result"
    }
   ],
   "source": [
    "from sklearn import feature_selection as fs\n",
    "fs_fit_fscore = fs.SelectKBest(fs.f_classif, k=10)\n",
    "fs_fit_fscore.fit_transform(Data_original, target)\n",
    "fs_indices_fscore = np.argsort(fs_fit_fscore.scores_)[::-1][0:10]\n",
    "fs_indices_fscore"
   ]
  },
  {
   "cell_type": "code",
   "execution_count": 24,
   "metadata": {},
   "outputs": [
    {
     "data": {
      "text/plain": [
       "array(['Duration', 'No_of_employees', 'No_of_days_passed',\n",
       "       'Three_month_rate', 'Variation_rate',\n",
       "       'Previous_contacts_performed', 'Contact_type', 'Price_index',\n",
       "       'Outcome', 'Campaign'], dtype=object)"
      ]
     },
     "execution_count": 24,
     "metadata": {},
     "output_type": "execute_result"
    }
   ],
   "source": [
    "best_features_fscore = data.columns[fs_indices_fscore].values\n",
    "best_features_fscore"
   ]
  },
  {
   "cell_type": "code",
   "execution_count": 25,
   "metadata": {},
   "outputs": [
    {
     "data": {
      "text/plain": [
       "array([8094.10163446, 5926.61060111, 4861.17327205, 4309.47904811,\n",
       "       4023.82992549, 2304.25708794,  881.70707031,  778.58979485,\n",
       "        705.67816444,  182.15667288])"
      ]
     },
     "execution_count": 25,
     "metadata": {},
     "output_type": "execute_result"
    }
   ],
   "source": [
    "feature_importances_fscore = fs_fit_fscore.scores_[fs_indices_fscore]\n",
    "feature_importances_fscore"
   ]
  },
  {
   "cell_type": "markdown",
   "metadata": {},
   "source": [
    "### 80:20 Split"
   ]
  },
  {
   "cell_type": "markdown",
   "metadata": {},
   "source": [
    "#### KNN"
   ]
  },
  {
   "cell_type": "code",
   "execution_count": 26,
   "metadata": {},
   "outputs": [],
   "source": [
    "from sklearn.model_selection import train_test_split\n",
    "D_train, D_test, t_train, t_test = \\\n",
    "    train_test_split(Data_original, target, test_size = 0.2, \n",
    "                     stratify=target, shuffle=True, random_state=999)"
   ]
  },
  {
   "cell_type": "code",
   "execution_count": 27,
   "metadata": {},
   "outputs": [],
   "source": [
    "from sklearn.base import BaseEstimator, TransformerMixin\n",
    "\n",
    "# custom function for RFI feature selection inside a pipeline\n",
    "# here we use n_estimators=100\n",
    "class RFIFeatureSelector(BaseEstimator, TransformerMixin):\n",
    "    \n",
    "    # class constructor \n",
    "    # make sure class attributes end with a \"_\"\n",
    "    # per scikit-learn convention to avoid errors\n",
    "    def __init__(self, n_features_=10):\n",
    "        self.n_features_ = n_features_\n",
    "        self.fs_indices_ = None\n",
    "\n",
    "    # override the fit function\n",
    "    def fit(self, X, y):\n",
    "        from sklearn.ensemble import RandomForestClassifier\n",
    "        from numpy import argsort\n",
    "        model_rfi = RandomForestClassifier(n_estimators=100)\n",
    "        model_rfi.fit(X, y)\n",
    "        self.fs_indices_ = argsort(model_rfi.feature_importances_)[::-1][0:self.n_features_] \n",
    "        return self \n",
    "    \n",
    "    # override the transform function\n",
    "    def transform(self, X, y=None):\n",
    "        return X[:, self.fs_indices_]\n"
   ]
  },
  {
   "cell_type": "code",
   "execution_count": 28,
   "metadata": {},
   "outputs": [
    {
     "name": "stdout",
     "output_type": "stream",
     "text": [
      "Fitting 5 folds for each of 60 candidates, totalling 300 fits\n"
     ]
    },
    {
     "name": "stderr",
     "output_type": "stream",
     "text": [
      "[Parallel(n_jobs=-2)]: Using backend LokyBackend with 7 concurrent workers.\n",
      "[Parallel(n_jobs=-2)]: Done  36 tasks      | elapsed:   50.7s\n",
      "[Parallel(n_jobs=-2)]: Done 186 tasks      | elapsed:  4.2min\n",
      "[Parallel(n_jobs=-2)]: Done 300 out of 300 | elapsed:  6.8min finished\n"
     ]
    }
   ],
   "source": [
    "from sklearn.pipeline import Pipeline\n",
    "from sklearn.model_selection import StratifiedKFold, GridSearchCV\n",
    "from sklearn.neighbors import KNeighborsClassifier\n",
    "\n",
    "cv_method = StratifiedKFold(n_splits=5, random_state=999)\n",
    "\n",
    "pipe_KNN = Pipeline(steps=[('rfi_fs', RFIFeatureSelector()), \n",
    "                           ('knn', KNeighborsClassifier())])\n",
    "\n",
    "params_pipe_KNN = {'rfi_fs__n_features_': [10, 20, Data_original.shape[1]],\n",
    "                   'knn__n_neighbors': [1,2,3,4,5,6,7,8,9,10],\n",
    "                   'knn__p': [1, 2]}\n",
    "\n",
    "gs_pipe_KNN = GridSearchCV(estimator=pipe_KNN, \n",
    "                           param_grid=params_pipe_KNN, \n",
    "                           cv=cv_method,\n",
    "                           refit=True,\n",
    "                           n_jobs=-2,\n",
    "                           verbose=1) \n",
    "gs_pipe_KNN.fit(D_train, t_train);\n",
    "t_pred = gs_pipe_KNN.predict(D_test)"
   ]
  },
  {
   "cell_type": "code",
   "execution_count": 29,
   "metadata": {},
   "outputs": [
    {
     "name": "stdout",
     "output_type": "stream",
     "text": [
      "Split (80/20) :\n",
      "\n",
      "\n",
      "Best Parameters :\n",
      "{'knn__p': 1, 'knn__n_neighbors': 10, 'rfi_fs__n_features_': 20}\n",
      "\n",
      "\n",
      "Best Score (80/20):\n",
      "0.9072534142640364\n",
      "\n",
      "\n",
      "Accuracy_score :\n",
      "0.9124787569798495\n",
      "\n",
      "\n",
      "Classification Error Rate\n",
      "0.08752124302015052\n"
     ]
    }
   ],
   "source": [
    "from sklearn import metrics\n",
    "\n",
    "print(\"Split (80/20) :\")\n",
    "print(\"\\n\")\n",
    "print(\"Best Parameters :\")\n",
    "print(gs_pipe_KNN.best_params_)\n",
    "print(\"\\n\")\n",
    "print(\"Best Score (80/20):\")\n",
    "print(gs_pipe_KNN.best_score_)\n",
    "print(\"\\n\")\n",
    "print(\"Accuracy_score :\")\n",
    "print(metrics.accuracy_score(t_test, t_pred))\n",
    "print(\"\\n\")\n",
    "print(\"Classification Error Rate\")\n",
    "Class_Error_Rate = 1- (metrics.accuracy_score(t_test, t_pred))\n",
    "print(Class_Error_Rate)"
   ]
  },
  {
   "cell_type": "code",
   "execution_count": 30,
   "metadata": {},
   "outputs": [
    {
     "name": "stdout",
     "output_type": "stream",
     "text": [
      "[[7126  184]\n",
      " [ 537  391]]\n",
      "\n",
      "\n",
      "Classification Report :\n",
      "              precision    recall  f1-score   support\n",
      "\n",
      "           0       0.93      0.97      0.95      7310\n",
      "           1       0.68      0.42      0.52       928\n",
      "\n",
      "   micro avg       0.91      0.91      0.91      8238\n",
      "   macro avg       0.80      0.70      0.74      8238\n",
      "weighted avg       0.90      0.91      0.90      8238\n",
      "\n"
     ]
    }
   ],
   "source": [
    "from sklearn.metrics import classification_report,confusion_matrix,accuracy_score\n",
    "\n",
    "confusion_matrix=confusion_matrix(t_test,t_pred)\n",
    "print(confusion_matrix)\n",
    "print(\"\\n\")\n",
    "print(\"Classification Report :\")\n",
    "print(classification_report(t_test, t_pred))"
   ]
  },
  {
   "cell_type": "markdown",
   "metadata": {},
   "source": [
    "#### Decsion Tree"
   ]
  },
  {
   "cell_type": "code",
   "execution_count": 31,
   "metadata": {},
   "outputs": [],
   "source": [
    "import warnings\n",
    "warnings.filterwarnings(\"ignore\")\n",
    "from sklearn.model_selection import cross_val_score, RepeatedStratifiedKFold\n",
    "import sklearn.metrics as metrics\n",
    "from sklearn.ensemble import RandomForestClassifier\n",
    "from sklearn import preprocessing\n",
    "from sklearn import feature_selection as fs\n",
    "from sklearn.neighbors import KNeighborsClassifier\n",
    "from sklearn.model_selection import train_test_split\n",
    "from sklearn.neighbors import KNeighborsClassifier\n",
    "from sklearn import neighbors\n",
    "from sklearn.model_selection import GridSearchCV\n",
    "from sklearn.metrics import classification_report,confusion_matrix,accuracy_score"
   ]
  },
  {
   "cell_type": "code",
   "execution_count": 32,
   "metadata": {},
   "outputs": [
    {
     "name": "stdout",
     "output_type": "stream",
     "text": [
      "Fitting 5 folds for each of 32 candidates, totalling 160 fits\n"
     ]
    },
    {
     "name": "stderr",
     "output_type": "stream",
     "text": [
      "[Parallel(n_jobs=1)]: Using backend SequentialBackend with 1 concurrent workers.\n",
      "[Parallel(n_jobs=1)]: Done 160 out of 160 | elapsed:   10.0s finished\n"
     ]
    }
   ],
   "source": [
    "from sklearn.tree import DecisionTreeClassifier\n",
    "df_classifier = DecisionTreeClassifier(random_state=999)\n",
    "\n",
    "params_DT = {'criterion': ['gini', 'entropy'],\n",
    "             'max_depth': [1,2,3,4,5,6,7,8],\n",
    "             'min_samples_split': [2, 3]}\n",
    "\n",
    "gs_DT = GridSearchCV(estimator=df_classifier, \n",
    "                     param_grid=params_DT, \n",
    "                     cv=cv_method,\n",
    "                     verbose=1, \n",
    "                     scoring='accuracy')\n",
    "\n",
    "gs_DT.fit(D_train, t_train);\n",
    "t_pred= gs_DT.predict(D_test)"
   ]
  },
  {
   "cell_type": "code",
   "execution_count": 33,
   "metadata": {},
   "outputs": [
    {
     "name": "stdout",
     "output_type": "stream",
     "text": [
      "Best Parameters for Decsion Tree (80/20):\n",
      "{'min_samples_split': 2, 'criterion': 'entropy', 'max_depth': 6}\n",
      "\n",
      "\n",
      "Best Score for Decsion Tree(80/20):\n",
      "0.9140212443095599\n",
      "\n",
      "\n",
      "Score for Decsion Tree:\n",
      "0.9180626365622724\n",
      "\n",
      "\n",
      "Confusion Matrix for Decsion Tree:\n",
      "[[7133  177]\n",
      " [ 498  430]]\n",
      "\n",
      "\n",
      "Classification Report for Decsion Tree:\n",
      "              precision    recall  f1-score   support\n",
      "\n",
      "           0       0.93      0.98      0.95      7310\n",
      "           1       0.71      0.46      0.56       928\n",
      "\n",
      "   micro avg       0.92      0.92      0.92      8238\n",
      "   macro avg       0.82      0.72      0.76      8238\n",
      "weighted avg       0.91      0.92      0.91      8238\n",
      "\n"
     ]
    }
   ],
   "source": [
    "print(\"Best Parameters for Decsion Tree (80/20):\")\n",
    "print(gs_DT.best_params_)\n",
    "print(\"\\n\")\n",
    "print(\"Best Score for Decsion Tree(80/20):\")\n",
    "print(gs_DT.best_score_)\n",
    "print(\"\\n\")\n",
    "print(\"Score for Decsion Tree:\")\n",
    "print(gs_DT.score(D_test, t_test))\n",
    "print(\"\\n\")\n",
    "print(\"Confusion Matrix for Decsion Tree:\")\n",
    "print(confusion_matrix(t_test,t_pred))\n",
    "print(\"\\n\")\n",
    "print(\"Classification Report for Decsion Tree:\")\n",
    "print(classification_report(t_test, t_pred))"
   ]
  },
  {
   "cell_type": "markdown",
   "metadata": {},
   "source": [
    "### 50:50 Split"
   ]
  },
  {
   "cell_type": "markdown",
   "metadata": {},
   "source": [
    "#### KNN"
   ]
  },
  {
   "cell_type": "code",
   "execution_count": 34,
   "metadata": {},
   "outputs": [],
   "source": [
    "from sklearn.model_selection import train_test_split\n",
    "D_train1, D_test1, t_train1, t_test1 = \\\n",
    "    train_test_split(Data_original, target, test_size = 0.5, \n",
    "                     stratify=target, shuffle=True, random_state=999)"
   ]
  },
  {
   "cell_type": "code",
   "execution_count": 35,
   "metadata": {},
   "outputs": [],
   "source": [
    "from sklearn.base import BaseEstimator, TransformerMixin\n",
    "\n",
    "# custom function for RFI feature selection inside a pipeline\n",
    "# here we use n_estimators=100\n",
    "class RFIFeatureSelector(BaseEstimator, TransformerMixin):\n",
    "    \n",
    "    # class constructor \n",
    "    # make sure class attributes end with a \"_\"\n",
    "    # per scikit-learn convention to avoid errors\n",
    "    def __init__(self, n_features_=10):\n",
    "        self.n_features_ = n_features_\n",
    "        self.fs_indices_ = None\n",
    "\n",
    "    # override the fit function\n",
    "    def fit(self, X, y):\n",
    "        from sklearn.ensemble import RandomForestClassifier\n",
    "        from numpy import argsort\n",
    "        model_rfi = RandomForestClassifier(n_estimators=100)\n",
    "        model_rfi.fit(X, y)\n",
    "        self.fs_indices_ = argsort(model_rfi.feature_importances_)[::-1][0:self.n_features_] \n",
    "        return self \n",
    "    \n",
    "    # override the transform function\n",
    "    def transform(self, X, y=None):\n",
    "        return X[:, self.fs_indices_]\n"
   ]
  },
  {
   "cell_type": "code",
   "execution_count": 36,
   "metadata": {},
   "outputs": [],
   "source": [
    "from sklearn.pipeline import Pipeline\n",
    "from sklearn.model_selection import StratifiedKFold, GridSearchCV\n",
    "from sklearn.neighbors import KNeighborsClassifier\n",
    "\n",
    "cv_method = StratifiedKFold(n_splits=5, random_state=999)\n",
    "\n",
    "pipe_KNN1 = Pipeline(steps=[('rfi_fs', RFIFeatureSelector()), \n",
    "                           ('knn', KNeighborsClassifier())])\n",
    "\n",
    "params_pipe_KNN1 = {'rfi_fs__n_features_': [10, 20, Data_original.shape[1]],\n",
    "                   'knn__n_neighbors': [1,2,3,4,5,6,7,8,9,10],\n",
    "                   'knn__p': [1, 2]}\n",
    "\n",
    "gs_pipe_KNN1 = GridSearchCV(estimator=pipe_KNN1, \n",
    "                           param_grid=params_pipe_KNN1, \n",
    "                           cv=cv_method,\n",
    "                           refit=True,\n",
    "                           n_jobs=-1,\n",
    "                           verbose=1) "
   ]
  },
  {
   "cell_type": "code",
   "execution_count": 37,
   "metadata": {},
   "outputs": [
    {
     "name": "stdout",
     "output_type": "stream",
     "text": [
      "Fitting 5 folds for each of 60 candidates, totalling 300 fits\n"
     ]
    },
    {
     "name": "stderr",
     "output_type": "stream",
     "text": [
      "[Parallel(n_jobs=-1)]: Using backend LokyBackend with 8 concurrent workers.\n",
      "[Parallel(n_jobs=-1)]: Done  34 tasks      | elapsed:   20.9s\n",
      "[Parallel(n_jobs=-1)]: Done 184 tasks      | elapsed:  2.0min\n",
      "[Parallel(n_jobs=-1)]: Done 300 out of 300 | elapsed:  3.4min finished\n"
     ]
    }
   ],
   "source": [
    "gs_pipe_KNN1.fit(D_train1, t_train1);\n",
    "t_pred = gs_pipe_KNN1.predict(D_test1)"
   ]
  },
  {
   "cell_type": "code",
   "execution_count": 38,
   "metadata": {},
   "outputs": [
    {
     "name": "stdout",
     "output_type": "stream",
     "text": [
      "Split (50:50):\n",
      "\n",
      "\n",
      "Best Parameters (50/50):\n",
      "{'knn__p': 1, 'knn__n_neighbors': 9, 'rfi_fs__n_features_': 20}\n",
      "\n",
      "\n",
      "Best Score (50/50):\n",
      "0.9090997377877051\n",
      "\n",
      "\n",
      "Accuracy_score :\n",
      "0.9090511799553268\n",
      "\n",
      "\n",
      "Classification Error Rate\n",
      "0.0909488200446732\n"
     ]
    }
   ],
   "source": [
    "from sklearn import metrics\n",
    "\n",
    "print(\"Split (50:50):\")\n",
    "print(\"\\n\")\n",
    "print(\"Best Parameters (50/50):\")\n",
    "print(gs_pipe_KNN1.best_params_)\n",
    "print(\"\\n\")\n",
    "print(\"Best Score (50/50):\")\n",
    "print(gs_pipe_KNN1.best_score_)\n",
    "print(\"\\n\")\n",
    "print(\"Accuracy_score :\")\n",
    "print(metrics.accuracy_score(t_test1, t_pred))\n",
    "print(\"\\n\")\n",
    "print(\"Classification Error Rate\")\n",
    "Class_Error_Rate = 1- (metrics.accuracy_score(t_test1, t_pred))\n",
    "print(Class_Error_Rate)"
   ]
  },
  {
   "cell_type": "code",
   "execution_count": 39,
   "metadata": {},
   "outputs": [
    {
     "name": "stdout",
     "output_type": "stream",
     "text": [
      "[[17554   720]\n",
      " [ 1153  1167]]\n",
      "\n",
      "\n",
      "Classification Report :\n",
      "              precision    recall  f1-score   support\n",
      "\n",
      "           0       0.94      0.96      0.95     18274\n",
      "           1       0.62      0.50      0.55      2320\n",
      "\n",
      "   micro avg       0.91      0.91      0.91     20594\n",
      "   macro avg       0.78      0.73      0.75     20594\n",
      "weighted avg       0.90      0.91      0.90     20594\n",
      "\n"
     ]
    }
   ],
   "source": [
    "from sklearn.metrics import classification_report,confusion_matrix,accuracy_score\n",
    "\n",
    "confusion_matrix=confusion_matrix(t_test1,t_pred)\n",
    "print(confusion_matrix)\n",
    "print(\"\\n\")\n",
    "print(\"Classification Report :\")\n",
    "print(classification_report(t_test1, t_pred))"
   ]
  },
  {
   "cell_type": "markdown",
   "metadata": {},
   "source": [
    "#### Decision Tree"
   ]
  },
  {
   "cell_type": "code",
   "execution_count": 40,
   "metadata": {},
   "outputs": [
    {
     "name": "stdout",
     "output_type": "stream",
     "text": [
      "Fitting 5 folds for each of 32 candidates, totalling 160 fits\n"
     ]
    },
    {
     "name": "stderr",
     "output_type": "stream",
     "text": [
      "[Parallel(n_jobs=1)]: Using backend SequentialBackend with 1 concurrent workers.\n",
      "[Parallel(n_jobs=1)]: Done 160 out of 160 | elapsed:    6.8s finished\n"
     ]
    }
   ],
   "source": [
    "from sklearn.tree import DecisionTreeClassifier\n",
    "df_classifier = DecisionTreeClassifier(random_state=999)\n",
    "\n",
    "params_DT1 = {'criterion': ['gini', 'entropy'],\n",
    "             'max_depth': [1,2,3,4,5,6,7,8],\n",
    "             'min_samples_split': [2, 3]}\n",
    "\n",
    "gs_DT1 = GridSearchCV(estimator=df_classifier, \n",
    "                     param_grid=params_DT1, \n",
    "                     cv=cv_method,\n",
    "                     verbose=1, \n",
    "                     scoring='accuracy')\n",
    "\n",
    "gs_DT1.fit(D_train1, t_train1);\n",
    "t_pred= gs_DT1.predict(D_test1)"
   ]
  },
  {
   "cell_type": "code",
   "execution_count": 41,
   "metadata": {},
   "outputs": [
    {
     "name": "stdout",
     "output_type": "stream",
     "text": [
      "Best Parameters for Decsion Tree (50/50):\n",
      "{'min_samples_split': 2, 'criterion': 'gini', 'max_depth': 5}\n",
      "\n",
      "\n",
      "Best Score for Decsion Tree (50/50):\n",
      "0.9126444595513257\n",
      "\n",
      "\n",
      "Score for Decsion Tree:\n",
      "0.9145382150140817\n",
      "\n",
      "\n",
      "Confusion Matrix for Decsion Tree:\n",
      "[[17595   679]\n",
      " [ 1081  1239]]\n",
      "\n",
      "\n",
      "Classification Report for Decsion Tree:\n",
      "              precision    recall  f1-score   support\n",
      "\n",
      "           0       0.94      0.96      0.95     18274\n",
      "           1       0.65      0.53      0.58      2320\n",
      "\n",
      "   micro avg       0.91      0.91      0.91     20594\n",
      "   macro avg       0.79      0.75      0.77     20594\n",
      "weighted avg       0.91      0.91      0.91     20594\n",
      "\n"
     ]
    }
   ],
   "source": [
    "from sklearn.metrics import classification_report,confusion_matrix,accuracy_score\n",
    "print(\"Best Parameters for Decsion Tree (50/50):\")\n",
    "print(gs_DT1.best_params_)\n",
    "print(\"\\n\")\n",
    "print(\"Best Score for Decsion Tree (50/50):\")\n",
    "print(gs_DT1.best_score_)\n",
    "print(\"\\n\")\n",
    "print(\"Score for Decsion Tree:\")\n",
    "print(gs_DT1.score(D_test1, t_test1))\n",
    "print(\"\\n\")\n",
    "print(\"Confusion Matrix for Decsion Tree:\")\n",
    "confusion_matrix=confusion_matrix(t_test1,t_pred)\n",
    "print(confusion_matrix)\n",
    "print(\"\\n\")\n",
    "print(\"Classification Report for Decsion Tree:\")\n",
    "print(classification_report(t_test1, t_pred))"
   ]
  },
  {
   "cell_type": "markdown",
   "metadata": {},
   "source": [
    "### 60:40 Split"
   ]
  },
  {
   "cell_type": "markdown",
   "metadata": {},
   "source": [
    "#### KNN"
   ]
  },
  {
   "cell_type": "code",
   "execution_count": 42,
   "metadata": {},
   "outputs": [],
   "source": [
    "from sklearn.model_selection import train_test_split\n",
    "D_train2, D_test2, t_train2, t_test2 = \\\n",
    "    train_test_split(Data_original, target, test_size = 0.4, \n",
    "                     stratify=target, shuffle=True, random_state=999)"
   ]
  },
  {
   "cell_type": "code",
   "execution_count": 43,
   "metadata": {},
   "outputs": [],
   "source": [
    "from sklearn.base import BaseEstimator, TransformerMixin\n",
    "\n",
    "# custom function for RFI feature selection inside a pipeline\n",
    "# here we use n_estimators=100\n",
    "class RFIFeatureSelector(BaseEstimator, TransformerMixin):\n",
    "    \n",
    "    # class constructor \n",
    "    # make sure class attributes end with a \"_\"\n",
    "    # per scikit-learn convention to avoid errors\n",
    "    def __init__(self, n_features_=10):\n",
    "        self.n_features_ = n_features_\n",
    "        self.fs_indices_ = None\n",
    "\n",
    "    # override the fit function\n",
    "    def fit(self, X, y):\n",
    "        from sklearn.ensemble import RandomForestClassifier\n",
    "        from numpy import argsort\n",
    "        model_rfi = RandomForestClassifier(n_estimators=100)\n",
    "        model_rfi.fit(X, y)\n",
    "        self.fs_indices_ = argsort(model_rfi.feature_importances_)[::-1][0:self.n_features_] \n",
    "        return self \n",
    "    \n",
    "    # override the transform function\n",
    "    def transform(self, X, y=None):\n",
    "        return X[:, self.fs_indices_]\n"
   ]
  },
  {
   "cell_type": "code",
   "execution_count": 44,
   "metadata": {},
   "outputs": [],
   "source": [
    "from sklearn.pipeline import Pipeline\n",
    "from sklearn.neighbors import KNeighborsClassifier\n",
    "from sklearn.model_selection import StratifiedKFold, GridSearchCV\n",
    "\n",
    "cv_method = StratifiedKFold(n_splits=5, random_state=999)\n",
    "\n",
    "pipe_KNN2 = Pipeline(steps=[('rfi_fs', RFIFeatureSelector()), \n",
    "                           ('knn', KNeighborsClassifier())])\n",
    "\n",
    "params_pipe_KNN2 = {'rfi_fs__n_features_': [10, 20, Data_original.shape[1]],\n",
    "                   'knn__n_neighbors': [1,2,3,4,5,6,7,8,9,10],\n",
    "                   'knn__p': [1, 2]}\n",
    "\n",
    "gs_pipe_KNN2 = GridSearchCV(estimator=pipe_KNN2, \n",
    "                           param_grid=params_pipe_KNN2, \n",
    "                           cv=cv_method,\n",
    "                           refit=True,\n",
    "                           verbose=1) \n"
   ]
  },
  {
   "cell_type": "code",
   "execution_count": 45,
   "metadata": {},
   "outputs": [
    {
     "name": "stdout",
     "output_type": "stream",
     "text": [
      "Fitting 5 folds for each of 60 candidates, totalling 300 fits\n"
     ]
    },
    {
     "name": "stderr",
     "output_type": "stream",
     "text": [
      "[Parallel(n_jobs=1)]: Using backend SequentialBackend with 1 concurrent workers.\n",
      "[Parallel(n_jobs=1)]: Done 300 out of 300 | elapsed: 18.5min finished\n"
     ]
    }
   ],
   "source": [
    "gs_pipe_KNN2.fit(D_train2, t_train2);\n",
    "t_pred = gs_pipe_KNN2.predict(D_test2)"
   ]
  },
  {
   "cell_type": "code",
   "execution_count": 46,
   "metadata": {},
   "outputs": [
    {
     "name": "stdout",
     "output_type": "stream",
     "text": [
      "Split (60/40):\n",
      "\n",
      "\n",
      "Best Parameters (60/40):\n",
      "{'knn__p': 2, 'knn__n_neighbors': 10, 'rfi_fs__n_features_': 20}\n",
      "\n",
      "\n",
      "Best Score :\n",
      "0.9087487860148915\n",
      "\n",
      "\n",
      "Accuracy_score :\n",
      "0.9109007040543822\n",
      "\n",
      "\n",
      "Classification Error Rate\n",
      "0.08909929594561783\n"
     ]
    }
   ],
   "source": [
    "from sklearn import metrics\n",
    "\n",
    "print(\"Split (60/40):\")\n",
    "print(\"\\n\")\n",
    "print(\"Best Parameters (60/40):\")\n",
    "print(gs_pipe_KNN2.best_params_)\n",
    "print(\"\\n\")\n",
    "print(\"Best Score :\")\n",
    "print(gs_pipe_KNN2.best_score_)\n",
    "print(\"\\n\")\n",
    "print(\"Accuracy_score :\")\n",
    "print(metrics.accuracy_score(t_test2, t_pred))\n",
    "print(\"\\n\")\n",
    "print(\"Classification Error Rate\")\n",
    "Class_Error_Rate = 1- (metrics.accuracy_score(t_test2, t_pred))\n",
    "print(Class_Error_Rate)"
   ]
  },
  {
   "cell_type": "code",
   "execution_count": 47,
   "metadata": {},
   "outputs": [
    {
     "name": "stdout",
     "output_type": "stream",
     "text": [
      "[[14194   426]\n",
      " [ 1042   814]]\n",
      "\n",
      "\n",
      "Classification Report :\n",
      "              precision    recall  f1-score   support\n",
      "\n",
      "           0       0.93      0.97      0.95     14620\n",
      "           1       0.66      0.44      0.53      1856\n",
      "\n",
      "   micro avg       0.91      0.91      0.91     16476\n",
      "   macro avg       0.79      0.70      0.74     16476\n",
      "weighted avg       0.90      0.91      0.90     16476\n",
      "\n"
     ]
    }
   ],
   "source": [
    "from sklearn.metrics import classification_report,confusion_matrix,accuracy_score\n",
    "\n",
    "confusion_matrix=confusion_matrix(t_test2,t_pred)\n",
    "print(confusion_matrix)\n",
    "print(\"\\n\")\n",
    "print(\"Classification Report :\")\n",
    "print(classification_report(t_test2, t_pred))"
   ]
  },
  {
   "cell_type": "markdown",
   "metadata": {},
   "source": [
    "#### Decision Tree"
   ]
  },
  {
   "cell_type": "code",
   "execution_count": 48,
   "metadata": {},
   "outputs": [
    {
     "name": "stdout",
     "output_type": "stream",
     "text": [
      "Fitting 5 folds for each of 32 candidates, totalling 160 fits\n"
     ]
    },
    {
     "name": "stderr",
     "output_type": "stream",
     "text": [
      "[Parallel(n_jobs=1)]: Using backend SequentialBackend with 1 concurrent workers.\n",
      "[Parallel(n_jobs=1)]: Done 160 out of 160 | elapsed:    7.5s finished\n"
     ]
    }
   ],
   "source": [
    "from sklearn.tree import DecisionTreeClassifier\n",
    "df_classifier = DecisionTreeClassifier(random_state=999)\n",
    "\n",
    "params_DT2 = {'criterion': ['gini', 'entropy'],\n",
    "             'max_depth': [1,2,3,4,5,6,7,8],\n",
    "             'min_samples_split': [2, 3]}\n",
    "\n",
    "gs_DT2 = GridSearchCV(estimator=df_classifier, \n",
    "                     param_grid=params_DT2, \n",
    "                     cv=cv_method,\n",
    "                     verbose=1, \n",
    "                     scoring='accuracy')\n",
    "\n",
    "gs_DT2.fit(D_train2, t_train2);\n",
    "t_pred= gs_DT2.predict(D_test2)"
   ]
  },
  {
   "cell_type": "code",
   "execution_count": 49,
   "metadata": {},
   "outputs": [
    {
     "name": "stdout",
     "output_type": "stream",
     "text": [
      "Best Parameters for Decsion Tree (60/40):\n",
      "{'min_samples_split': 2, 'criterion': 'gini', 'max_depth': 6}\n",
      "\n",
      "\n",
      "Best Score for Decsion Tree *60/40):\n",
      "0.9129977338944643\n",
      "\n",
      "\n",
      "Score for Decsion Tree:\n",
      "0.916788055353241\n",
      "\n",
      "\n",
      "Confusion Matrix for Decsion Tree:\n",
      "[[14059   561]\n",
      " [  810  1046]]\n",
      "\n",
      "\n",
      "Classification Report for Decsion Tree:\n",
      "              precision    recall  f1-score   support\n",
      "\n",
      "           0       0.95      0.96      0.95     14620\n",
      "           1       0.65      0.56      0.60      1856\n",
      "\n",
      "   micro avg       0.92      0.92      0.92     16476\n",
      "   macro avg       0.80      0.76      0.78     16476\n",
      "weighted avg       0.91      0.92      0.91     16476\n",
      "\n"
     ]
    }
   ],
   "source": [
    "from sklearn.metrics import classification_report,confusion_matrix,accuracy_score\n",
    "print(\"Best Parameters for Decsion Tree (60/40):\")\n",
    "print(gs_DT2.best_params_)\n",
    "print(\"\\n\")\n",
    "print(\"Best Score for Decsion Tree *60/40):\")\n",
    "print(gs_DT2.best_score_)\n",
    "print(\"\\n\")\n",
    "print(\"Score for Decsion Tree:\")\n",
    "print(gs_DT2.score(D_test2, t_test2))\n",
    "print(\"\\n\")\n",
    "print(\"Confusion Matrix for Decsion Tree:\")\n",
    "print(confusion_matrix(t_test2,t_pred))\n",
    "print(\"\\n\")\n",
    "print(\"Classification Report for Decsion Tree:\")\n",
    "print(classification_report(t_test2, t_pred))"
   ]
  }
 ],
 "metadata": {
  "kernelspec": {
   "display_name": "Python 3",
   "language": "python",
   "name": "python3"
  },
  "language_info": {
   "codemirror_mode": {
    "name": "ipython",
    "version": 3
   },
   "file_extension": ".py",
   "mimetype": "text/x-python",
   "name": "python",
   "nbconvert_exporter": "python",
   "pygments_lexer": "ipython3",
   "version": "3.7.0"
  }
 },
 "nbformat": 4,
 "nbformat_minor": 2
}
